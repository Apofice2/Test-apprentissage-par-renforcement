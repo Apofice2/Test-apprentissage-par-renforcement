{
  "cells": [
    {
      "cell_type": "markdown",
      "metadata": {
        "id": "view-in-github",
        "colab_type": "text"
      },
      "source": [
        "<a href=\"https://colab.research.google.com/github/Apofice2/Test-apprentissage-par-renforcement/blob/main/Initiation_A_Gym.ipynb\" target=\"_parent\"><img src=\"https://colab.research.google.com/assets/colab-badge.svg\" alt=\"Open In Colab\"/></a>"
      ]
    },
    {
      "cell_type": "markdown",
      "id": "d4bd7e42",
      "metadata": {
        "id": "d4bd7e42"
      },
      "source": [
        "<img src=\"./assets/Logo_ESEO_GROUPE.jpg\" alt=\"Tech Logo\" align=\"center\" height=\"400\" width=\"400\"/>"
      ]
    },
    {
      "cell_type": "markdown",
      "id": "c8407962",
      "metadata": {
        "id": "c8407962"
      },
      "source": [
        "<h1 align=\"center\"; style=\"color:#3333cc;font-size:55px\">Apprentissage par renforcement</h1>"
      ]
    },
    {
      "cell_type": "markdown",
      "id": "f1eb4be3",
      "metadata": {
        "id": "f1eb4be3"
      },
      "source": [
        "<h2 align=\"center\"; style=\"color:#0099cc;font-size:30px\">Initiez vous à OpenAI Gym</h2>"
      ]
    },
    {
      "cell_type": "markdown",
      "id": "d2c219ae",
      "metadata": {
        "id": "d2c219ae"
      },
      "source": [
        "Dans ce TP découverte, nous découvrirons les éléments de base de la librairie Gym d'OpenAI. Nous passerons en revue certains éléments comme les environnements, les espaces, les wrappers et les environnements vectorisés.\n",
        "\n",
        "\n",
        "Pour débuter dans l'apprentissage par renforcement, Gym d'OpenAI est indéniablement le choix le plus populaire pour mettre en place des environnements pour former vos agents. Dans la recherche en apprentissage par renforcement, un large éventail d'environnements qui sont utilisés comme références pour prouver l'efficacité de toute nouvelle méthodologie de recherche sont implémentés dans OpenAI Gym. De plus, OpenAI gym fournit une API simple pour implémenter vos propres environnements."
      ]
    },
    {
      "cell_type": "markdown",
      "id": "01e64981",
      "metadata": {
        "id": "01e64981"
      },
      "source": [
        "<h2 style=\"text-align: left; color:#0099cc;font-size: 25px\"><span>🖱️ <strong>Installation de la librairie</strong></span></h2>"
      ]
    },
    {
      "cell_type": "markdown",
      "id": "db8011f4",
      "metadata": {
        "id": "db8011f4"
      },
      "source": [
        "La première chose à faire est de s'assurer que la dernière version de gym est installée. Sinon, il est possible d'utiliser conda ou pip pour installer Gym. Dans notre cas, nous utiliserons pip."
      ]
    },
    {
      "cell_type": "markdown",
      "id": "e264fadf",
      "metadata": {
        "id": "e264fadf"
      },
      "source": [
        "Mais un préalable à l'installation de gym est l'installation de la librairie **pygame**. Installons-la !"
      ]
    },
    {
      "cell_type": "code",
      "execution_count": null,
      "id": "41e6f1a7",
      "metadata": {
        "id": "41e6f1a7"
      },
      "outputs": [],
      "source": [
        "!pip3 install pygame"
      ]
    },
    {
      "cell_type": "markdown",
      "id": "de28f702",
      "metadata": {
        "id": "de28f702"
      },
      "source": [
        "Passons maintenant à l'installation de gym"
      ]
    },
    {
      "cell_type": "code",
      "execution_count": null,
      "id": "0d79f543",
      "metadata": {
        "id": "0d79f543"
      },
      "outputs": [],
      "source": [
        "!pip3 install -U gym==0.19.0"
      ]
    },
    {
      "cell_type": "markdown",
      "id": "27169df0",
      "metadata": {
        "id": "27169df0"
      },
      "source": [
        "<h2 style=\"text-align: left; color:#0099cc;font-size: 25px\"><span>🌎 <strong>Les environnements dans Gym</strong></span></h2>"
      ]
    },
    {
      "cell_type": "markdown",
      "id": "874f9dd5",
      "metadata": {
        "id": "874f9dd5"
      },
      "source": [
        "Le bloc de base d'OpenAI Gym est la classe Env. Il s'agit d'une classe Python qui implémente essentiellement un simulateur qui exécute l'environnement dans lequel vous souhaitez former votre agent. Open AI Gym est livré avec de nombreux environnements, comme celui où vous pouvez déplacer une voiture sur une colline, équilibrer un pendule oscillant , obtenir de bons résultats sur les jeux Atari, etc."
      ]
    },
    {
      "cell_type": "markdown",
      "id": "84ba9a51",
      "metadata": {
        "id": "84ba9a51"
      },
      "source": [
        "Regardons combien d'environnements sont disponibles dans Gym."
      ]
    },
    {
      "cell_type": "code",
      "execution_count": null,
      "id": "9362b13b",
      "metadata": {
        "id": "9362b13b"
      },
      "outputs": [],
      "source": [
        "from gym import envs\n",
        "print(\"Nombre d'environnements disponibles dans Gym : \", len(envs.registry.all()))"
      ]
    },
    {
      "cell_type": "markdown",
      "id": "782c0f34",
      "metadata": {
        "id": "782c0f34"
      },
      "source": [
        "Gym vous offre également la possibilité de créer des environnements personnalisés."
      ]
    },
    {
      "cell_type": "markdown",
      "id": "a696d196",
      "metadata": {
        "id": "a696d196"
      },
      "source": [
        "Commençons avec un environnement appelé MountainCar, où l'objectif est de conduire une voiture sur une montagne. La voiture est sur une piste unidimensionnelle, positionnée entre deux \"montagnes\". Le but est, en partant de la vallée, de monter sur la montagne à droite. Cependant, le moteur de la voiture n'est pas assez puissant pour escalader la montagne en une seule fois. Par conséquent, la seule façon de réussir est de faire des allers-retours pour créer une dynamique."
      ]
    },
    {
      "cell_type": "code",
      "execution_count": null,
      "id": "99039464",
      "metadata": {
        "id": "99039464"
      },
      "outputs": [],
      "source": [
        "import gym\n",
        "env = gym.make('MountainCar-v0').env"
      ]
    },
    {
      "cell_type": "markdown",
      "id": "2282f738",
      "metadata": {
        "id": "2282f738"
      },
      "source": [
        "<img src=\"./assets/mountain-car-v0.gif\" alt=\"Tech Logo\" align=\"center\" height=\"400\" width=\"400\"/>"
      ]
    },
    {
      "cell_type": "markdown",
      "id": "ad63475f",
      "metadata": {
        "id": "ad63475f"
      },
      "source": [
        "La structure de base de l'environnement est décrite par les attributs **observation_space** et **action_space** de la classe Env.\n",
        "\n",
        "L'attribut **espace_observation** définit la structure ainsi que les valeurs pour l'observation de l'état de l'environnement. **espace_observation** peut être différente selon les environnements. La forme la plus courante est une capture d'écran du jeu. Il peut aussi y avoir d'autres formes d'observations, comme certaines caractéristiques de l'environnement décrites sous forme vectorielle.\n",
        "\n",
        "De même, la classe Env fournit également un attribut appelé **action_space**, qui décrit la structure numérique des actions pouvant être appliquées à l'environnement."
      ]
    },
    {
      "cell_type": "code",
      "execution_count": null,
      "id": "07c7cd12",
      "metadata": {
        "id": "07c7cd12"
      },
      "outputs": [],
      "source": [
        "# Observation and action space\n",
        "obs_space = env.observation_space\n",
        "action_space = env.action_space\n",
        "print(\"The observation space: {}\".format(obs_space))\n",
        "print(\"The action space: {}\".format(action_space))"
      ]
    },
    {
      "cell_type": "markdown",
      "id": "a23f2df2",
      "metadata": {
        "id": "a23f2df2"
      },
      "source": [
        "L'espace d'observation pour l'environnement **\"MountainCar\"** est un vecteur de deux nombres représentant la vitesse et la position. Le point médian entre les deux montagnes est considéré comme l'origine, la droite étant la direction positive et la gauche la direction négative.\n",
        "\n",
        "Remarquez que l'espace d'observation ainsi que l'espace d'action sont représentés par des classes appelées **Box** et **Discrete**, respectivement. Il s'agit de l'une des différentes structures de données fournies par Gym afin de mettre en œuvre des espaces d'observation et d'action pour différents types de scénarios (espace d'action discret, espace d'action continue, etc.). Nous approfondirons ces derniers plus loin."
      ]
    },
    {
      "cell_type": "markdown",
      "id": "25721de5",
      "metadata": {
        "id": "25721de5"
      },
      "source": [
        "Pour Box et Discrete, l'attribut **n** permet de déterminer le nombre d'états possibles dans l'environnement et le nombre d'actions possibles."
      ]
    },
    {
      "cell_type": "code",
      "execution_count": null,
      "id": "12b1a6d6",
      "metadata": {
        "id": "12b1a6d6"
      },
      "outputs": [],
      "source": [
        "action_space.n"
      ]
    },
    {
      "cell_type": "markdown",
      "id": "cf6684e1",
      "metadata": {
        "id": "cf6684e1"
      },
      "source": [
        "Mais attention, dans des environnements à espaces d'états continus comme MountainCar, le nombre d'états possibles est infini, donc la commande ci-dessous renverra une erreur"
      ]
    },
    {
      "cell_type": "code",
      "execution_count": null,
      "id": "424a08ba",
      "metadata": {
        "id": "424a08ba"
      },
      "outputs": [],
      "source": [
        "obs_space.n"
      ]
    },
    {
      "cell_type": "markdown",
      "id": "86480de7",
      "metadata": {
        "id": "86480de7"
      },
      "source": [
        "<h2 style=\"text-align: left; color:#0099cc;font-size: 25px\"><span>🚀 <strong>Les interactions avec l'environnement</strong></span></h2>"
      ]
    },
    {
      "cell_type": "markdown",
      "id": "e150e7b9",
      "metadata": {
        "id": "e150e7b9"
      },
      "source": [
        "Dans cette section, nous découvrirons les fonctions de la classe Env qui aident l'agent à interagir avec l'environnement. Deux de ces fonctions importantes sont :\n",
        "\n",
        "- **reset** : Cette fonction réinitialise l'environnement à son état initial, et renvoie l'observation de l'environnement correspondant à l'état initial.\n",
        "- **step** : cette fonction prend une action en entrée et l'applique à l'environnement, ce qui entraîne la transition de l'environnement vers un nouvel état. La fonction reset renvoie quatre choses :\n",
        "    - ***observation*** : L'observation de l'état de l'environnement.\n",
        "    - ***récompense*** : la récompense que vous pouvez obtenir de l'environnement après avoir exécuté l'action qui a été donnée en entrée de la fonction d'étape.\n",
        "    - ***done*** : Indique si l'épisode a été terminé. Si c'est vrai, vous devrez peut-être mettre fin à la simulation ou réinitialiser l'environnement pour redémarrer l'épisode.\n",
        "    - ***info*** : cela fournit des informations supplémentaires en fonction de l'environnement, telles que le nombre de vies restantes, ou des informations générales pouvant être propices au débogage.\n",
        "\n",
        "Voyons maintenant un exemple qui illustre les concepts évoqués ci-dessus. On commence d'abord par réinitialiser l'environnement, puis on inspecte une observation. Nous appliquons ensuite une action et inspectons la nouvelle observation."
      ]
    },
    {
      "cell_type": "code",
      "execution_count": null,
      "id": "4c5021f5",
      "metadata": {
        "id": "4c5021f5"
      },
      "outputs": [],
      "source": [
        "import matplotlib.pyplot as plt\n",
        "\n",
        "# reset the environment and see the initial observation\n",
        "obs = env.reset()\n",
        "print(\"L'observation initiale de l'état de l'environnement est : {}\".format(obs))\n",
        "\n",
        "# Choisir une action aléatoire dans l'espace des actions\n",
        "random_action = env.action_space.sample()\n",
        "\n",
        "# Effectuer l'action choisie et récupérer l'observation du nouvel état\n",
        "new_obs, reward, done, info = env.step(random_action)\n",
        "print(\"La nouvelle observation de l'état de l'environnement est : {}\".format(new_obs))"
      ]
    },
    {
      "cell_type": "markdown",
      "id": "ad1ce711",
      "metadata": {
        "id": "ad1ce711"
      },
      "source": [
        "Dans le cas de cet environnement, l'observation de l'état de l'environnement n'est pas la capture d'écran de la tâche en cours d'exécution. Dans de nombreux autres environnements (comme Atari, comme nous le verrons), l'état est une capture d'écran du jeu.\n",
        "\n",
        "Dans tous les cas, si vous voulez voir à quoi ressemble l'environnement dans l'état actuel, vous pouvez utiliser la méthode de **render()**."
      ]
    },
    {
      "cell_type": "code",
      "execution_count": null,
      "id": "f33a418d",
      "metadata": {
        "id": "f33a418d"
      },
      "outputs": [],
      "source": [
        "env.render(mode=\"human\")"
      ]
    },
    {
      "cell_type": "markdown",
      "id": "30459083",
      "metadata": {
        "id": "30459083"
      },
      "source": [
        "Cela devrait afficher l'environnement dans son état actuel dans une fenêtre contextuelle. Vous pouvez fermer la fenêtre à l'aide de la fonction **\"close\"**."
      ]
    },
    {
      "cell_type": "code",
      "execution_count": null,
      "id": "b7a0b031",
      "metadata": {
        "id": "b7a0b031"
      },
      "outputs": [],
      "source": [
        "# env.close()"
      ]
    },
    {
      "cell_type": "markdown",
      "id": "d69aa5b0",
      "metadata": {
        "id": "d69aa5b0"
      },
      "source": [
        "Si vous souhaitez voir une capture d'écran du jeu sous forme d'image plutôt que sous forme de fenêtre contextuelle, vous devez définir l'argument mode de la fonction de **render()** sur **rgb_array**."
      ]
    },
    {
      "cell_type": "code",
      "execution_count": null,
      "id": "2b752b74",
      "metadata": {
        "id": "2b752b74"
      },
      "outputs": [],
      "source": [
        "env_screen = env.render(mode = 'rgb_array')\n",
        "\n",
        "import matplotlib.pyplot as plt\n",
        "print(env_screen.shape)\n",
        "plt.imshow(env_screen)\n",
        "\n",
        "env.close()"
      ]
    },
    {
      "cell_type": "markdown",
      "id": "dd363198",
      "metadata": {
        "id": "dd363198"
      },
      "source": [
        "En mettant tout bout à bout, le code  pour exécuter votre agent dans l'environnement MountainCar ressemblerait à ce qui suit.\n",
        "\n",
        "Dans notre cas, nous prenons juste des actions aléatoires, mais vous pouvez bienévidemment avoir un agent qui fait quelque chose de plus intelligent en fonction de l'observation que vous obtenez (c'est même le but)."
      ]
    },
    {
      "cell_type": "code",
      "execution_count": null,
      "id": "b7d0db6c",
      "metadata": {
        "id": "b7d0db6c"
      },
      "outputs": [],
      "source": [
        "import time\n",
        "\n",
        "# Nombre d'étapes à faire exécuter par l'agent\n",
        "num_steps = 1500\n",
        "\n",
        "obs = env.reset()\n",
        "\n",
        "for step in range(num_steps):\n",
        "    # On choisit ici une action aléatoire\n",
        "    action = env.action_space.sample()\n",
        "\n",
        "    # On exécute cette action dans l'environnement\n",
        "    obs, reward, done, info = env.step(action)\n",
        "\n",
        "    # On effectue de l'état de l'environnement\n",
        "    env.render()\n",
        "\n",
        "    # On attend un peu sinon la vidéo finale sera trop rapide à observer\n",
        "    time.sleep(0.001)\n",
        "\n",
        "    # Si l'épisode se termine, on en commence un autre\n",
        "    if done:\n",
        "        env.reset()\n",
        "\n",
        "# AU terme des étapes, on ferme l'environnement\n",
        "env.close()"
      ]
    },
    {
      "cell_type": "markdown",
      "id": "8e676ed0",
      "metadata": {
        "id": "8e676ed0"
      },
      "source": [
        "<h2 style=\"text-align: left; color:#0099cc;font-size: 25px\"><span>🌌<strong>Observation de l'espace d'états et d'actions</strong></span></h2>"
      ]
    },
    {
      "cell_type": "markdown",
      "id": "b9f3331e",
      "metadata": {
        "id": "b9f3331e"
      },
      "source": [
        "L'espace des états pour notre environnement était **Box(2,)** et l'espace d'action était **Discrete(2,)**.\n",
        "\n",
        "Mais qu'est-ce que cela signifie réellement? Box et Discrete sont tous deux des types de structures de données appelées \"Spaces\" fournies par Gym pour décrire les valeurs légitimes des états et des actions pour les environnements.\n",
        "\n",
        "Toutes ces structures de données sont dérivées de la classe de base gym.Space"
      ]
    },
    {
      "cell_type": "code",
      "execution_count": null,
      "id": "6f9ddd6a",
      "metadata": {
        "id": "6f9ddd6a"
      },
      "outputs": [],
      "source": [
        "type(env.observation_space)"
      ]
    },
    {
      "cell_type": "markdown",
      "id": "0d5b6e0a",
      "metadata": {
        "id": "0d5b6e0a"
      },
      "source": [
        "Box(n,) correspond à l'espace continu à n dimensions.\n",
        "\n",
        "Dans notre cas n=2, donc l'espace d'observation de notre environnement est un espace 2-D. Bien sûr, l'espace est délimité par des limites supérieures et inférieures qui décrivent les valeurs légitimes que peuvent prendre nos états.\n",
        "\n",
        "Nous pouvons le déterminer en utilisant les attributs **high** et **low** de l'espace d'état. Celles-ci correspondent respectivement aux positions/vitesses maximales et minimales dans notre environnement."
      ]
    },
    {
      "cell_type": "code",
      "execution_count": null,
      "id": "1258ea8e",
      "metadata": {
        "id": "1258ea8e"
      },
      "outputs": [],
      "source": [
        "print(\"Limite supérieure de l'espace des états : \", env.observation_space.high)\n",
        "print(\"Limite inférieure de l'espace des états : \", env.observation_space.low)"
      ]
    },
    {
      "cell_type": "markdown",
      "id": "e783eddb",
      "metadata": {
        "id": "e783eddb"
      },
      "source": [
        "La l'objet Discret(n) décrit un espace discret avec [0.....n-1] valeurs possibles. Dans notre cas, n = 3, ce qui signifie que nos actions peuvent prendre des valeurs de 0, 1 ou 2.\n",
        "\n",
        "Contrairement à Box, Discrete n'a pas de méthode **high** et **low**, car, par définition , l'on sait quel type de valeurs d'actions sont autorisés.\n",
        "\n",
        "Par exemple, si vous essayez d'entrer des valeurs d'action non valides (dans notre cas, disons, 4) dans la fonction **step()** de notre environnement, cela conduira à une erreur."
      ]
    },
    {
      "cell_type": "code",
      "execution_count": null,
      "id": "6beca708",
      "metadata": {
        "id": "6beca708"
      },
      "outputs": [],
      "source": [
        "# Fonctionne\n",
        "env.step(2)"
      ]
    },
    {
      "cell_type": "code",
      "execution_count": null,
      "id": "f8ee98c5",
      "metadata": {
        "id": "f8ee98c5"
      },
      "outputs": [],
      "source": [
        "# Ne fonctionne pas\n",
        "env.step(4)\n"
      ]
    },
    {
      "cell_type": "markdown",
      "id": "8bd2b1d2",
      "metadata": {
        "id": "8bd2b1d2"
      },
      "source": [
        "Il existe plusieurs autres espaces disponibles pour divers cas d'utilisation, tels que MultiDiscrete, qui permet d'utiliser plusieurs variables discrètes pour votre espace d'état et d'action."
      ]
    },
    {
      "cell_type": "markdown",
      "id": "11944b0b",
      "metadata": {
        "id": "11944b0b"
      },
      "source": [
        "<h2 style=\"text-align: left; color:#0099cc;font-size: 25px\"><span>💼<strong>Les Wrappers dans Gym</strong></span></h2>"
      ]
    },
    {
      "cell_type": "markdown",
      "id": "d878a8b7",
      "metadata": {
        "id": "d878a8b7"
      },
      "source": [
        "La classe **Wrapper** dans OpenAI Gym vous offre la possibilité de modifier différentes parties d'un environnement en fonction de vos besoins.\n",
        "\n",
        "Pourquoi un tel besoin pourrait-il survenir ? Peut-être voulez-vous normaliser votre entrée de pixels, ou peut-être voulez-vous modifier vos récompenses. Bien que vous puissiez généralement accomplir la même chose en créant une autre classe qui sous-classe la classe Env de votre environnement, la classe Wrapper nous permet de le faire de manière plus systématique."
      ]
    },
    {
      "cell_type": "markdown",
      "id": "8124943f",
      "metadata": {
        "id": "8124943f"
      },
      "source": [
        "Mais avant de commencer, passons à un environnement plus complexe qui nous aidera vraiment à apprécier l'utilité de Wrapper. Cet environnement complexe va être le jeu Atari **Breakout**."
      ]
    },
    {
      "cell_type": "markdown",
      "id": "502931aa",
      "metadata": {
        "id": "502931aa"
      },
      "source": [
        "<img src=\"./assets/breakout.gif\" alt=\"Tech Logo\" align=\"center\" height=\"300\" width=\"300\"/>"
      ]
    },
    {
      "cell_type": "markdown",
      "id": "8fdec0ef",
      "metadata": {
        "id": "8fdec0ef"
      },
      "source": [
        "Avant de commencer, nous installons les composants Atari de Gym."
      ]
    },
    {
      "cell_type": "code",
      "execution_count": null,
      "id": "7158236d",
      "metadata": {
        "id": "7158236d"
      },
      "outputs": [],
      "source": [
        "!pip3 install opencv-python\n",
        "!pip3 install gym[atari]"
      ]
    },
    {
      "cell_type": "markdown",
      "id": "f0817897",
      "metadata": {
        "id": "f0817897"
      },
      "source": [
        "Si vous avez une erreur  ***\"AttributeError: le module 'enum' n'a pas d'attribut 'IntFlag'\"***, vous devrez peut-être désinstaller le package enum, puis réessayer l'installation."
      ]
    },
    {
      "cell_type": "code",
      "execution_count": null,
      "id": "ce1f46d6",
      "metadata": {
        "id": "ce1f46d6"
      },
      "outputs": [],
      "source": [
        "# pip3 uninstall -y enum34"
      ]
    },
    {
      "cell_type": "markdown",
      "id": "bae4571a",
      "metadata": {
        "id": "bae4571a"
      },
      "source": [
        "Exécutons maintenant l'environnement avec des actions aléatoires."
      ]
    },
    {
      "cell_type": "code",
      "execution_count": null,
      "id": "c5913202",
      "metadata": {
        "scrolled": true,
        "id": "c5913202"
      },
      "outputs": [],
      "source": [
        "env = gym.make(\"BreakoutNoFrameskip-v4\")\n",
        "\n",
        "print(\"Espace d'états : \", env.observation_space)\n",
        "print(\"Espace d'actions : \", env.action_space)\n",
        "\n",
        "obs = env.reset()\n",
        "\n",
        "for i in range(1000):\n",
        "    action = env.action_space.sample()\n",
        "    obs, reward, done, info = env.step(action)\n",
        "    env.render()\n",
        "    time.sleep(0.01)\n",
        "env.close()"
      ]
    },
    {
      "cell_type": "markdown",
      "id": "b8f54562",
      "metadata": {
        "id": "b8f54562"
      },
      "source": [
        "Notre espace d'état est un espace continu de dimensions (210, 160, 3) correspondant où chaque élément est un pixel RGB.\n",
        "Notre espace d'action contient 4 actions discrètes :\n",
        "- Gauche,\n",
        "- Droite,\n",
        "- Ne rien faire\n",
        "- Feu\n",
        "\n",
        "Maintenant que notre environnement est chargé, supposons que nous devions apporter certaines modifications à l'environnement Atari. C'est une pratique courante en apprentissage par renforcement de construire notre observation en concaténant ensemble les k images précédente. Nous devons modifier l'environnement BreakOut de sorte que nos fonctions **reset()** et **step()** renvoient des observations concaténées.\n",
        "\n",
        "Pour cela, nous définissons une classe de type gym.Wrapper pour surcharger les fonctions reset et return de l'environnement Breakout. La classe Wrapper, comme son nom l'indique, est un wrapper au-dessus d'une classe Env qui modifie certains de ses attributs et fonctions.\n",
        "\n",
        "La fonction **__init__** est définie avec la classe Env pour laquelle le wrapper est écrit, et le nombre de trames passées à concaténer. Notez que nous devons également redéfinir l'espace d'observation puisque nous utilisons maintenant des cadres concaténés comme observations. (Nous modifions l'espace d'observation de (210, 160, 3) à (210, 160, 3 * num_past_frames)\n",
        "\n",
        "Dans la fonction **reset**, pour initialiser l'environnement, puisque nous n'avons aucune observation précédente à concaténer, nous concaténons uniquement les observations initiales à plusieurs reprises."
      ]
    },
    {
      "cell_type": "code",
      "execution_count": null,
      "id": "75b403fa",
      "metadata": {
        "id": "75b403fa"
      },
      "outputs": [],
      "source": [
        "from collections import deque\n",
        "from gym import spaces\n",
        "import numpy as np\n",
        "\n",
        "class ConcatObs(gym.Wrapper):\n",
        "    def __init__(self, env, k):\n",
        "        gym.Wrapper.__init__(self, env)\n",
        "        self.k = k\n",
        "        self.frames = deque([], maxlen=k)\n",
        "        shp = env.observation_space.shape\n",
        "        self.observation_space = spaces.Box(low=0, high=255, shape=((k,) + shp), dtype=env.observation_space.dtype)\n",
        "\n",
        "\n",
        "    def reset(self):\n",
        "        ob = self.env.reset()\n",
        "        for _ in range(self.k):\n",
        "            self.frames.append(ob)\n",
        "\n",
        "        return self._get_ob()\n",
        "\n",
        "    def step(self, action):\n",
        "        ob, reward, done, info = self.env.step(action)\n",
        "        self.frames.append(ob)\n",
        "        return self._get_ob(), reward, done, info\n",
        "\n",
        "    def _get_ob(self):\n",
        "        return np.array(self.frames)"
      ]
    },
    {
      "cell_type": "markdown",
      "id": "229eacaa",
      "metadata": {
        "id": "229eacaa"
      },
      "source": [
        "Maintenant, pour obtenir notre environnement modifié, nous encapsulons notre environnement Env dans le wrapper que nous venons de créer."
      ]
    },
    {
      "cell_type": "code",
      "execution_count": null,
      "id": "5b2699c3",
      "metadata": {
        "id": "5b2699c3"
      },
      "outputs": [],
      "source": [
        "env = gym.make(\"BreakoutNoFrameskip-v4\")\n",
        "wrapped_env = ConcatObs(env, 4)\n",
        "\n",
        "print(\"La nouvelle observation est : \", wrapped_env.observation_space)"
      ]
    },
    {
      "cell_type": "markdown",
      "id": "51776488",
      "metadata": {
        "id": "51776488"
      },
      "source": [
        "Vérifions maintenant si les observations sont bien concaténées ou non."
      ]
    },
    {
      "cell_type": "code",
      "execution_count": null,
      "id": "f983967a",
      "metadata": {
        "id": "f983967a"
      },
      "outputs": [],
      "source": [
        "# Réinitialiser l'environnement\n",
        "obs = wrapped_env.reset()\n",
        "print(\"Dimensions de l'état initiale : \", obs.shape)\n",
        "\n",
        "# Effectuer une action sur l'environnement\n",
        "obs, _, _, _  = wrapped_env.step(2)\n",
        "print(\"Dimensions de l'état après avoir effectué l'action\", obs.shape)\n"
      ]
    },
    {
      "cell_type": "markdown",
      "id": "1dac9960",
      "metadata": {
        "id": "1dac9960"
      },
      "source": [
        "Il existe d'autres types de wrappers dans Gym.\n",
        "\n",
        "Gym fournit également des wrappers spécifiques qui ciblent des éléments spécifiques de l'environnement, tels que des observations, des récompenses et des actions.\n",
        "\n",
        "- **ObservationWrapper** : Il permet d'apporter des modifications à un état d'un environnement en utilisant la méthode **observation** de la classe wrapper.\n",
        "- **RewardWrapper** : Il permet d'apporter des modifications à une récompense en utilisant la méthode **reward** de la classe wrapper.\n",
        "- **ActionWrapper** : Il permet d'apporter des modifications à une action à l'aide de la méthode **action** de la classe wrapper."
      ]
    },
    {
      "cell_type": "markdown",
      "id": "d1da6186",
      "metadata": {
        "id": "d1da6186"
      },
      "source": [
        "<h2 style=\"text-align: left; color:#0099cc;font-size: 25px\"><span>🧮<strong>Les environnements vectoriels dans Gym</strong></span></h2>"
      ]
    },
    {
      "cell_type": "markdown",
      "id": "8733ebc2",
      "metadata": {
        "id": "8733ebc2"
      },
      "source": [
        "De nombreux algorithmes d'apprentissage par renforcement (comme Asynchronous Actor Critic) utilisent des threads parallèles, où chaque thread exécute une instance de l'environnement pour à la fois accélérer le processus de formation et améliorer l'efficacité.\n",
        "\n",
        "Pour ce faire, nous allons maintenant utiliser une autre bibliothèque, également d'OpenAI, appelée **baselines**. Cette bibliothèque fournit des implémentations performantes de nombreux algorithmes d'apprentissage par renforcement standard avec lesquels comparer n'importe quel nouvel algorithme. En plus de ces implémentations, **baselines** fournit également de nombreuses autres fonctionnalités qui permettent de préparer nos environnements conformément à la manière dont ils ont été utilisés dans les expériences OpenAI.\n",
        "\n",
        "L'une de ces fonctionnalités comprend des wrappers qui vous permettent d'exécuter plusieurs environnements en parallèle à l'aide d'un seul appel de fonction. Avant de commencer, nous procédons d'abord à l'installation de baselines en exécutant les commandes suivantes dans un terminal."
      ]
    },
    {
      "cell_type": "code",
      "execution_count": null,
      "id": "bb9540bf",
      "metadata": {
        "id": "bb9540bf"
      },
      "outputs": [],
      "source": [
        "!git clone https://github.com/openai/baselines\n",
        "!cd baselines && pip3 install . && cd .."
      ]
    },
    {
      "cell_type": "markdown",
      "id": "fcf069f3",
      "metadata": {
        "id": "fcf069f3"
      },
      "source": [
        "Vous devrez peut-être redémarrer votre notebook Jupyter pour que le package installé soit disponible.\n",
        "\n",
        "Le wrapper qui nous intéresse ici s'appelle SubProcEnv, qui exécutera tous les environnements dans une méthode asynchrone.\n",
        "\n",
        "Nous créons d'abord une liste d'appels de fonction qui renvoient l'environnement que nous exécutons. Dans le code, une fonction lambda est utilisée pour créer une fonction anonyme qui renvoie l'environnement de Gym"
      ]
    },
    {
      "cell_type": "code",
      "execution_count": null,
      "id": "f9a08136",
      "metadata": {
        "id": "f9a08136"
      },
      "outputs": [],
      "source": [
        "# Importer les packages necessaires\n",
        "import gym\n",
        "from baselines.common.vec_env.subproc_vec_env import SubprocVecEnv\n",
        "\n",
        "# Liste des environnements\n",
        "num_envs = 3\n",
        "envs = [lambda: gym.make(\"BreakoutNoFrameskip-v4\") for i in range(num_envs)]\n",
        "\n",
        "# Création de l'environnement vectoriel\n",
        "envs = SubprocVecEnv(envs)"
      ]
    },
    {
      "cell_type": "markdown",
      "id": "dc2fae7b",
      "metadata": {
        "id": "dc2fae7b"
      },
      "source": [
        "Cet environnement agit maintenant comme un environnement unique où nous pouvons appeler les fonctions **reset** et **step**. Cependant, ces fonctions renvoient maintenant un tableau d'état/actions, plutôt qu'un seul état/action."
      ]
    },
    {
      "cell_type": "code",
      "execution_count": null,
      "id": "b66bb6ad",
      "metadata": {
        "id": "b66bb6ad"
      },
      "outputs": [],
      "source": [
        "# On se met à l'état initial\n",
        "init_obs = envs.reset()\n",
        "\n",
        "\n",
        "# On récupère une liste d'état correspondant à des environnements parallèle\n",
        "print(\"Nombre d'environnements:\", len(init_obs))\n",
        "\n",
        "# On vérifie le premier état\n",
        "one_obs = init_obs[0]\n",
        "print(\"Dimensions du premier état\", one_obs.shape)\n",
        "\n",
        "# On prépare une liste d'actions qui sont appliqués à l'environnement\n",
        "actions = [0, 1, 2]\n",
        "obs = envs.step(actions)"
      ]
    },
    {
      "cell_type": "markdown",
      "id": "b102cb07",
      "metadata": {
        "id": "b102cb07"
      },
      "source": [
        "L'appel de la fonction **render** sur les envs vectorisés affiche des captures d'écran des jeux en mosaïque."
      ]
    },
    {
      "cell_type": "code",
      "execution_count": null,
      "id": "5eeb30e3",
      "metadata": {
        "id": "5eeb30e3"
      },
      "outputs": [],
      "source": [
        "# Import de libraires\n",
        "import time\n",
        "\n",
        "# Liste des environnements\n",
        "num_envs = 3\n",
        "envs = [lambda: gym.make(\"BreakoutNoFrameskip-v4\") for i in range(num_envs)]\n",
        "\n",
        "# Création et rendu de l'environnement vectorisé\n",
        "envs = SubprocVecEnv(envs)\n",
        "\n",
        "init_obs = envs.reset()\n",
        "\n",
        "for i in range(1000):\n",
        "    actions = [envs.action_space.sample() for i in range(num_envs)]\n",
        "    envs.step(actions)\n",
        "    envs.render()\n",
        "    time.sleep(0.001)\n",
        "\n",
        "envs.close()"
      ]
    }
  ],
  "metadata": {
    "kernelspec": {
      "display_name": "Python 3 (ipykernel)",
      "language": "python",
      "name": "python3"
    },
    "language_info": {
      "codemirror_mode": {
        "name": "ipython",
        "version": 3
      },
      "file_extension": ".py",
      "mimetype": "text/x-python",
      "name": "python",
      "nbconvert_exporter": "python",
      "pygments_lexer": "ipython3",
      "version": "3.7.2"
    },
    "colab": {
      "provenance": [],
      "include_colab_link": true
    }
  },
  "nbformat": 4,
  "nbformat_minor": 5
}